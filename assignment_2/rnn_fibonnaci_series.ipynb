{
  "nbformat": 4,
  "nbformat_minor": 0,
  "metadata": {
    "colab": {
      "name": "rnn_fibonnaci series.ipynb",
      "version": "0.3.2",
      "provenance": []
    },
    "kernelspec": {
      "name": "python3",
      "display_name": "Python 3"
    }
  },
  "cells": [
    {
      "metadata": {
        "id": "T6ioSeiN19NC",
        "colab_type": "code",
        "colab": {}
      },
      "cell_type": "code",
      "source": [
        "import numpy as np\n",
        "import matplotlib.pyplot as plt\n",
        "\n",
        "import pandas as pd\n",
        "from sklearn.model_selection import train_test_split\n"
      ],
      "execution_count": 0,
      "outputs": []
    },
    {
      "metadata": {
        "id": "-JGb6zuH3EjQ",
        "colab_type": "code",
        "outputId": "0b343fd4-0886-4db5-b012-b50bb5f52583",
        "colab": {
          "base_uri": "https://localhost:8080/",
          "height": 204
        }
      },
      "cell_type": "code",
      "source": [
        "#making training set\n",
        "n_out=1\n",
        "n=0\n",
        "A,B=[],[]\n",
        "for i in range(1,10):\n",
        "  for j in range(i,10):\n",
        "    n+=1\n",
        "    A.append(i)\n",
        "    B.append(j)\n",
        "A,B=np.array(A),np.array(B)\n",
        "for i in range(n):\n",
        "  if A[i]>B[i]:\n",
        "    A[i],B[i]=B[i],A[i]\n",
        "data=pd.DataFrame({})\n",
        "data[\"A\"]=A\n",
        "data[\"B\"]=B\n",
        "X=np.array(data)\n",
        "y=np.array(data[\"A\"]+data[\"B\"]).reshape(-1,1)\n",
        "X_train,X_test,y_train,y_test=train_test_split(X,y,random_state=42)\n",
        "print(\"X\",X[:5],\"\\n\\n\",\"y\",y[:5])"
      ],
      "execution_count": 5,
      "outputs": [
        {
          "output_type": "stream",
          "text": [
            "X [[1 1]\n",
            " [1 2]\n",
            " [1 3]\n",
            " [1 4]\n",
            " [1 5]] \n",
            "\n",
            " y [[2]\n",
            " [3]\n",
            " [4]\n",
            " [5]\n",
            " [6]]\n"
          ],
          "name": "stdout"
        }
      ]
    },
    {
      "metadata": {
        "id": "yguuk4aQ3EoL",
        "colab_type": "code",
        "outputId": "42609f6b-ce63-4d7d-acb8-7f4af08f01b8",
        "colab": {
          "base_uri": "https://localhost:8080/",
          "height": 1717
        }
      },
      "cell_type": "code",
      "source": [
        "#teaching adding sequence to the rnn for 2 numbers\n",
        "import torch\n",
        "from torch.autograd import Variable\n",
        "dtype = torch.FloatTensor\n",
        "N, Din, Dout = 100,2, n_out\n",
        "x = Variable(torch.Tensor(X_train).type(dtype), requires_grad=False)\n",
        "x_test=Variable(torch.Tensor(X_test).type(dtype), requires_grad=False)\n",
        "y = Variable(torch.Tensor(y_train).type(dtype), requires_grad=False)\n",
        "y_test = Variable(torch.Tensor(y_test).type(dtype), requires_grad=False)\n",
        "w = Variable(torch.randn(Din, Dout).type(dtype), requires_grad=True)\n",
        "learning_rate = 0.000001\n",
        "train_loss_list=[]\n",
        "test_loss_list=[]\n",
        "for t in range(1000):\n",
        "  y_pred = x.mm(w)\n",
        "  y_pred_test=x_test.mm(w)\n",
        "  loss = (y_pred - y).pow(2).sum()\n",
        "  loss_test=(y_pred_test-y_test).pow(2).sum()\n",
        "  train_loss_list.append(loss.data)\n",
        "  test_loss_list.append(loss_test)\n",
        "  loss.backward()\n",
        "  w.data -= learning_rate * w.grad.data\n",
        "  w.grad.data.zero_()\n",
        "  if t%10==0 :\n",
        "    print(loss)\n",
        "    \n",
        "   \n"
      ],
      "execution_count": 8,
      "outputs": [
        {
          "output_type": "stream",
          "text": [
            "tensor(7630.7793, grad_fn=<SumBackward0>)\n",
            "tensor(7053.5352, grad_fn=<SumBackward0>)\n",
            "tensor(6520.7070, grad_fn=<SumBackward0>)\n",
            "tensor(6028.8726, grad_fn=<SumBackward0>)\n",
            "tensor(5574.8784, grad_fn=<SumBackward0>)\n",
            "tensor(5155.8096, grad_fn=<SumBackward0>)\n",
            "tensor(4768.9766, grad_fn=<SumBackward0>)\n",
            "tensor(4411.8970, grad_fn=<SumBackward0>)\n",
            "tensor(4082.2820, grad_fn=<SumBackward0>)\n",
            "tensor(3778.0146, grad_fn=<SumBackward0>)\n",
            "tensor(3497.1448, grad_fn=<SumBackward0>)\n",
            "tensor(3237.8706, grad_fn=<SumBackward0>)\n",
            "tensor(2998.5291, grad_fn=<SumBackward0>)\n",
            "tensor(2777.5857, grad_fn=<SumBackward0>)\n",
            "tensor(2573.6238, grad_fn=<SumBackward0>)\n",
            "tensor(2385.3367, grad_fn=<SumBackward0>)\n",
            "tensor(2211.5161, grad_fn=<SumBackward0>)\n",
            "tensor(2051.0496, grad_fn=<SumBackward0>)\n",
            "tensor(1902.9084, grad_fn=<SumBackward0>)\n",
            "tensor(1766.1439, grad_fn=<SumBackward0>)\n",
            "tensor(1639.8799, grad_fn=<SumBackward0>)\n",
            "tensor(1523.3077, grad_fn=<SumBackward0>)\n",
            "tensor(1415.6815, grad_fn=<SumBackward0>)\n",
            "tensor(1316.3132, grad_fn=<SumBackward0>)\n",
            "tensor(1224.5664, grad_fn=<SumBackward0>)\n",
            "tensor(1139.8544, grad_fn=<SumBackward0>)\n",
            "tensor(1061.6354, grad_fn=<SumBackward0>)\n",
            "tensor(989.4097, grad_fn=<SumBackward0>)\n",
            "tensor(922.7159, grad_fn=<SumBackward0>)\n",
            "tensor(861.1278, grad_fn=<SumBackward0>)\n",
            "tensor(804.2537, grad_fn=<SumBackward0>)\n",
            "tensor(751.7297, grad_fn=<SumBackward0>)\n",
            "tensor(703.2208, grad_fn=<SumBackward0>)\n",
            "tensor(658.4185, grad_fn=<SumBackward0>)\n",
            "tensor(617.0370, grad_fn=<SumBackward0>)\n",
            "tensor(578.8131, grad_fn=<SumBackward0>)\n",
            "tensor(543.5039, grad_fn=<SumBackward0>)\n",
            "tensor(510.8850, grad_fn=<SumBackward0>)\n",
            "tensor(480.7492, grad_fn=<SumBackward0>)\n",
            "tensor(452.9056, grad_fn=<SumBackward0>)\n",
            "tensor(427.1776, grad_fn=<SumBackward0>)\n",
            "tensor(403.4028, grad_fn=<SumBackward0>)\n",
            "tensor(381.4305, grad_fn=<SumBackward0>)\n",
            "tensor(361.1223, grad_fn=<SumBackward0>)\n",
            "tensor(342.3497, grad_fn=<SumBackward0>)\n",
            "tensor(324.9948, grad_fn=<SumBackward0>)\n",
            "tensor(308.9487, grad_fn=<SumBackward0>)\n",
            "tensor(294.1103, grad_fn=<SumBackward0>)\n",
            "tensor(280.3871, grad_fn=<SumBackward0>)\n",
            "tensor(267.6932, grad_fn=<SumBackward0>)\n",
            "tensor(255.9493, grad_fn=<SumBackward0>)\n",
            "tensor(245.0825, grad_fn=<SumBackward0>)\n",
            "tensor(235.0251, grad_fn=<SumBackward0>)\n",
            "tensor(225.7150, grad_fn=<SumBackward0>)\n",
            "tensor(217.0948, grad_fn=<SumBackward0>)\n",
            "tensor(209.1114, grad_fn=<SumBackward0>)\n",
            "tensor(201.7160, grad_fn=<SumBackward0>)\n",
            "tensor(194.8632, grad_fn=<SumBackward0>)\n",
            "tensor(188.5114, grad_fn=<SumBackward0>)\n",
            "tensor(182.6222, grad_fn=<SumBackward0>)\n",
            "tensor(177.1599, grad_fn=<SumBackward0>)\n",
            "tensor(172.0916, grad_fn=<SumBackward0>)\n",
            "tensor(167.3873, grad_fn=<SumBackward0>)\n",
            "tensor(163.0190, grad_fn=<SumBackward0>)\n",
            "tensor(158.9609, grad_fn=<SumBackward0>)\n",
            "tensor(155.1891, grad_fn=<SumBackward0>)\n",
            "tensor(151.6818, grad_fn=<SumBackward0>)\n",
            "tensor(148.4185, grad_fn=<SumBackward0>)\n",
            "tensor(145.3808, grad_fn=<SumBackward0>)\n",
            "tensor(142.5510, grad_fn=<SumBackward0>)\n",
            "tensor(139.9135, grad_fn=<SumBackward0>)\n",
            "tensor(137.4536, grad_fn=<SumBackward0>)\n",
            "tensor(135.1574, grad_fn=<SumBackward0>)\n",
            "tensor(133.0127, grad_fn=<SumBackward0>)\n",
            "tensor(131.0077, grad_fn=<SumBackward0>)\n",
            "tensor(129.1317, grad_fn=<SumBackward0>)\n",
            "tensor(127.3750, grad_fn=<SumBackward0>)\n",
            "tensor(125.7283, grad_fn=<SumBackward0>)\n",
            "tensor(124.1834, grad_fn=<SumBackward0>)\n",
            "tensor(122.7325, grad_fn=<SumBackward0>)\n",
            "tensor(121.3684, grad_fn=<SumBackward0>)\n",
            "tensor(120.0844, grad_fn=<SumBackward0>)\n",
            "tensor(118.8746, grad_fn=<SumBackward0>)\n",
            "tensor(117.7332, grad_fn=<SumBackward0>)\n",
            "tensor(116.6551, grad_fn=<SumBackward0>)\n",
            "tensor(115.6354, grad_fn=<SumBackward0>)\n",
            "tensor(114.6699, grad_fn=<SumBackward0>)\n",
            "tensor(113.7542, grad_fn=<SumBackward0>)\n",
            "tensor(112.8848, grad_fn=<SumBackward0>)\n",
            "tensor(112.0581, grad_fn=<SumBackward0>)\n",
            "tensor(111.2708, grad_fn=<SumBackward0>)\n",
            "tensor(110.5201, grad_fn=<SumBackward0>)\n",
            "tensor(109.8032, grad_fn=<SumBackward0>)\n",
            "tensor(109.1175, grad_fn=<SumBackward0>)\n",
            "tensor(108.4608, grad_fn=<SumBackward0>)\n",
            "tensor(107.8308, grad_fn=<SumBackward0>)\n",
            "tensor(107.2257, grad_fn=<SumBackward0>)\n",
            "tensor(106.6435, grad_fn=<SumBackward0>)\n",
            "tensor(106.0825, grad_fn=<SumBackward0>)\n",
            "tensor(105.5412, grad_fn=<SumBackward0>)\n"
          ],
          "name": "stdout"
        }
      ]
    },
    {
      "metadata": {
        "id": "piXHGK9A3to-",
        "colab_type": "code",
        "outputId": "72a5cf6c-a80c-4e5a-f9e3-d2677e588d26",
        "colab": {
          "base_uri": "https://localhost:8080/",
          "height": 300
        }
      },
      "cell_type": "code",
      "source": [
        "plt.plot(train_loss_list,label=\"train loss\")\n",
        "plt.plot(test_loss_list,label=\"test_loss\")\n",
        "plt.xlabel(\"number of iterations\")\n",
        "plt.ylabel(\"cost\")\n",
        "plt.legend()"
      ],
      "execution_count": 9,
      "outputs": [
        {
          "output_type": "execute_result",
          "data": {
            "text/plain": [
              "<matplotlib.legend.Legend at 0x7fa5da2f6c88>"
            ]
          },
          "metadata": {
            "tags": []
          },
          "execution_count": 9
        },
        {
          "output_type": "display_data",
          "data": {
            "image/png": "[encoded data removed]",
            "text/plain": [
              "<Figure size 432x288 with 1 Axes>"
            ]
          },
          "metadata": {
            "tags": []
          }
        }
      ]
    },
    {
      "metadata": {
        "id": "mRgCpjXK46Mr",
        "colab_type": "code",
        "outputId": "1a8d8f9b-8be3-46af-8a68-782fe40fa494",
        "colab": {
          "base_uri": "https://localhost:8080/",
          "height": 357
        }
      },
      "cell_type": "code",
      "source": [
        "def sum_new(a,b,w):\n",
        "  return round(float(torch.Tensor([[a,b]]).mm(w)[0][0].data))\n",
        "def fibonnaci(w,a,b,n):\n",
        "  if n==1:\n",
        "    return a\n",
        "  a_sum_b=sum_new(a,b,w)\n",
        "  return fibo(w,b,a+b,n-1)\n",
        "a,b,n=1,1,10\n",
        "for i in range(1,n+1):\n",
        "  print(fibonnaci(w,a,b,i))\n",
        "  print(\" \")\n",
        "        "
      ],
      "execution_count": 11,
      "outputs": [
        {
          "output_type": "stream",
          "text": [
            "1\n",
            " \n",
            "1\n",
            " \n",
            "2\n",
            " \n",
            "3\n",
            " \n",
            "5\n",
            " \n",
            "8\n",
            " \n",
            "13\n",
            " \n",
            "21\n",
            " \n",
            "34\n",
            " \n",
            "55\n",
            " \n"
          ],
          "name": "stdout"
        }
      ]
    }
  ]
}