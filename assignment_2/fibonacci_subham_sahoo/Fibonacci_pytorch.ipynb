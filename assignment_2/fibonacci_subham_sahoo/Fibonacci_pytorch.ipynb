{
 "cells": [
  {
   "cell_type": "code",
   "execution_count": 1,
   "metadata": {},
   "outputs": [],
   "source": [
    "import numpy as np\n",
    "import matplotlib.pyplot as plt\n",
    "import pandas as pd\n",
    "from sklearn.model_selection import train_test_split\n",
    "import torch\n",
    "from torch.autograd import Variable\n",
    "import random\n",
    "import math"
   ]
  },
  {
   "cell_type": "code",
   "execution_count": 2,
   "metadata": {},
   "outputs": [
    {
     "name": "stdout",
     "output_type": "stream",
     "text": [
      "[1, 38, 23, 28, 26, 26, 16, 22, 11, 27, 2, 19, 25, 16, 2, 45, 38, 41, 4, 24, 43, 21, 40, 7, 47, 9, 9, 8, 50, 4, 43, 46, 13, 3, 22, 12, 39, 5, 25, 32, 14, 41, 46, 19, 48, 39, 10, 45, 12, 2] [4, 15, 41, 49, 35, 3, 21, 14, 18, 38, 4, 48, 7, 1, 46, 30, 16, 13, 35, 33, 6, 24, 46, 5, 48, 42, 43, 48, 32, 32, 16, 10, 22, 18, 43, 28, 41, 31, 15, 49, 39, 25, 19, 16, 14, 12, 28, 28, 30, 36]\n"
     ]
    }
   ],
   "source": [
    "A,B = [],[]\n",
    "for _ in range(50):\n",
    "    r = random.random() * 50\n",
    "    r = math.ceil(r)\n",
    "    A.append(r)\n",
    "for _ in range(50):\n",
    "    r = random.random() * 50\n",
    "    r = math.ceil(r)\n",
    "    B.append(r)\n",
    "print(A, B)"
   ]
  },
  {
   "cell_type": "code",
   "execution_count": 3,
   "metadata": {},
   "outputs": [],
   "source": [
    "n = len(A)"
   ]
  },
  {
   "cell_type": "code",
   "execution_count": null,
   "metadata": {},
   "outputs": [],
   "source": []
  },
  {
   "cell_type": "code",
   "execution_count": 4,
   "metadata": {},
   "outputs": [],
   "source": [
    "A,B=np.array(A),np.array(B)\n",
    "for i in range(n):\n",
    "  if A[i]>B[i]:\n",
    "    A[i],B[i]=B[i],A[i]"
   ]
  },
  {
   "cell_type": "code",
   "execution_count": 5,
   "metadata": {},
   "outputs": [],
   "source": [
    "A = A.reshape(n,1)\n",
    "B = B.reshape(n,1)"
   ]
  },
  {
   "cell_type": "code",
   "execution_count": 6,
   "metadata": {},
   "outputs": [],
   "source": [
    "x = np.concatenate((A, B), axis = 1)\n",
    "y = A+B"
   ]
  },
  {
   "cell_type": "code",
   "execution_count": null,
   "metadata": {},
   "outputs": [],
   "source": []
  },
  {
   "cell_type": "code",
   "execution_count": 7,
   "metadata": {},
   "outputs": [
    {
     "name": "stdout",
     "output_type": "stream",
     "text": [
      "<class 'numpy.ndarray'>\n"
     ]
    }
   ],
   "source": [
    "X_train,X_test,y_train,y_test=train_test_split(x ,y ,random_state=42)\n",
    "print(type(x))"
   ]
  },
  {
   "cell_type": "code",
   "execution_count": 8,
   "metadata": {},
   "outputs": [],
   "source": [
    "datatype = torch.FloatTensor\n",
    "Dx, Dy = 2, 1\n",
    "x_train = Variable(torch.Tensor(X_train).type(datatype), requires_grad=False)\n",
    "x_test=Variable(torch.Tensor(X_test).type(datatype), requires_grad=False)\n",
    "y_train = Variable(torch.Tensor(y_train).type(datatype), requires_grad=False)\n",
    "y_test = Variable(torch.Tensor(y_test).type(datatype), requires_grad=False)\n",
    "w = Variable(torch.randn(Dx, Dy).type(datatype), requires_grad=True)"
   ]
  },
  {
   "cell_type": "code",
   "execution_count": 9,
   "metadata": {},
   "outputs": [
    {
     "data": {
      "text/plain": [
       "<matplotlib.legend.Legend at 0x7ff81c62e7f0>"
      ]
     },
     "execution_count": 9,
     "metadata": {},
     "output_type": "execute_result"
    },
    {
     "data": {
      "image/png": "[encoded data removed]",
      "text/plain": [
       "<Figure size 432x288 with 1 Axes>"
      ]
     },
     "metadata": {},
     "output_type": "display_data"
    }
   ],
   "source": [
    "alpha = 0.00001\n",
    "train_loss = []\n",
    "test_loss = []\n",
    "for t in range(100):\n",
    "  y_pred_train = x_train.mm(w)\n",
    "  y_pred_test = x_test.mm(w)\n",
    "  loss_train = (y_pred_train - y_train).pow(2).sum()\n",
    "  loss_test = (y_pred_test - y_test).pow(2).sum()\n",
    "  train_loss.append(loss_train.data)\n",
    "  test_loss.append(loss_test.data)\n",
    "  loss_train.backward()\n",
    "  w.data -= alpha * w.grad.data\n",
    "  w.grad.data.zero_()\n",
    "#print(w)\n",
    "plt.plot(train_loss,label=\"train loss\")\n",
    "plt.plot(test_loss,label=\"test loss\")\n",
    "plt.xlabel(\"number of iteration\")\n",
    "plt.ylabel(\"#loss#\")\n",
    "plt.legend()"
   ]
  },
  {
   "cell_type": "code",
   "execution_count": 14,
   "metadata": {},
   "outputs": [
    {
     "name": "stdout",
     "output_type": "stream",
     "text": [
      "10\n",
      "15\n",
      "25\n",
      "40\n",
      "65\n",
      "105\n",
      "170\n",
      "275\n",
      "445\n",
      "720\n"
     ]
    }
   ],
   "source": [
    "with torch.no_grad():\n",
    "    def add_febo(a,b):\n",
    "      x_predict = Variable(torch.Tensor([[a,b]]).type(datatype), requires_grad=False)\n",
    "      return (round(float(x_predict.mm(w).data)))\n",
    "\n",
    "    def fibonacci(a,b,n):\n",
    "      if n == 1:\n",
    "        return a\n",
    "      result = add_febo(a,b)\n",
    "      return fibonacci(b,result,n-1)\n",
    "\n",
    "    a, b, n = 10, 15, 10\n",
    "    for i in range(1,n+1):\n",
    "      print(fibonacci(a,b,i))"
   ]
  },
  {
   "cell_type": "code",
   "execution_count": null,
   "metadata": {},
   "outputs": [],
   "source": []
  }
 ],
 "metadata": {
  "kernelspec": {
   "display_name": "Python 3",
   "language": "python",
   "name": "python3"
  },
  "language_info": {
   "codemirror_mode": {
    "name": "ipython",
    "version": 3
   },
   "file_extension": ".py",
   "mimetype": "text/x-python",
   "name": "python",
   "nbconvert_exporter": "python",
   "pygments_lexer": "ipython3",
   "version": "3.6.5"
  }
 },
 "nbformat": 4,
 "nbformat_minor": 2
}
