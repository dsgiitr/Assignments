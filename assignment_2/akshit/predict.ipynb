{
 "cells": [
  {
   "cell_type": "code",
   "execution_count": 54,
   "metadata": {},
   "outputs": [],
   "source": [
    "import numpy as np\n",
    "import torch\n",
    "import torch.nn as nn\n"
   ]
  },
  {
   "cell_type": "code",
   "execution_count": 55,
   "metadata": {},
   "outputs": [],
   "source": [
    "class Model(nn.Module):\n",
    "    def __init__(self):\n",
    "        super(Model, self).__init__()\n",
    "        self.fc1 = nn.Linear(5,1)\n",
    "        \n",
    "    def forward(self,x):\n",
    "        x = (self.fc1(x))\n",
    "        return x\n",
    "    \n",
    "    "
   ]
  },
  {
   "cell_type": "code",
   "execution_count": 56,
   "metadata": {},
   "outputs": [],
   "source": [
    "model = Model()\n",
    "model.load_state_dict(torch.load('model.pt'))\n"
   ]
  },
  {
   "cell_type": "code",
   "execution_count": 57,
   "metadata": {},
   "outputs": [],
   "source": [
    "def fibonacci(a,b,n):\n",
    "    l = [a,b]\n",
    "    for i in range(n):\n",
    "        t = [0,0,0,0,0]\n",
    "        k = 0 \n",
    "        for j in range(len(l)):\n",
    "            if k<5:\n",
    "                \n",
    "                t[-(j+1)] = l[-(j+1)]\n",
    "                k+=1\n",
    "            else:\n",
    "                break\n",
    "                \n",
    "            \n",
    "            \n",
    "        \n",
    "        t = torch.tensor(t, dtype= torch.float32)\n",
    "        \n",
    "        o = model(t)\n",
    "        \n",
    "        l.append(o[0])\n",
    "    return l    \n",
    "    "
   ]
  },
  {
   "cell_type": "code",
   "execution_count": 58,
   "metadata": {},
   "outputs": [],
   "source": [
    "l = fibonacci(2,3,5)"
   ]
  },
  {
   "cell_type": "code",
   "execution_count": 59,
   "metadata": {},
   "outputs": [
    {
     "data": {
      "text/plain": [
       "[2,\n",
       " 3,\n",
       " tensor(5.5248, grad_fn=<SelectBackward>),\n",
       " tensor(9.0559, grad_fn=<SelectBackward>),\n",
       " tensor(15.3526, grad_fn=<SelectBackward>),\n",
       " tensor(25.5963, grad_fn=<SelectBackward>),\n",
       " tensor(42.6830, grad_fn=<SelectBackward>)]"
      ]
     },
     "execution_count": 59,
     "metadata": {},
     "output_type": "execute_result"
    }
   ],
   "source": [
    "l"
   ]
  },
  {
   "cell_type": "code",
   "execution_count": null,
   "metadata": {},
   "outputs": [],
   "source": []
  }
 ],
 "metadata": {
  "kernelspec": {
   "display_name": "Python 3",
   "language": "python",
   "name": "python3"
  },
  "language_info": {
   "codemirror_mode": {
    "name": "ipython",
    "version": 3
   },
   "file_extension": ".py",
   "mimetype": "text/x-python",
   "name": "python",
   "nbconvert_exporter": "python",
   "pygments_lexer": "ipython3",
   "version": "3.6.5"
  }
 },
 "nbformat": 4,
 "nbformat_minor": 2
}
