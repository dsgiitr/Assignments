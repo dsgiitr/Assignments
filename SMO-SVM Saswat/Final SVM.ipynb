{
 "cells": [
  {
   "cell_type": "code",
   "execution_count": 125,
   "metadata": {},
   "outputs": [],
   "source": [
    "import numpy as np\n",
    "from sklearn.datasets.samples_generator import make_blobs\n",
    "import matplotlib.pyplot as plt"
   ]
  },
  {
   "cell_type": "code",
   "execution_count": 289,
   "metadata": {},
   "outputs": [],
   "source": [
    "class SMOModel:\n",
    "    def __init__(self , X , y , kernel=np.dot,C=1000,tol=0.01,eps=0.01):\n",
    "        self.tol=0.01\n",
    "        self.eps=0.01\n",
    "        self.X = X\n",
    "        y[y==0]=-1\n",
    "        self.target = y\n",
    "        self.LM = np.zeros(len(X))\n",
    "        self.b = 0\n",
    "        self.kernel = kernel\n",
    "        self.Errors = np.zeros(len(X))\n",
    "        self.m = len(X)\n",
    "        self.C = C\n",
    "        self.W = np.zeros(X.shape[1])\n",
    "        self.objective = []\n",
    "        for i in np.arange(len(X)):\n",
    "            self.Errors[i] = self.kernel(self.W,self.X[i]) - self.b - self.target[i]\n",
    "        \n",
    "    def predict(X):\n",
    "        return np.sign(self.kernel(X,self.W)-self.b)"
   ]
  },
  {
   "cell_type": "code",
   "execution_count": 277,
   "metadata": {},
   "outputs": [],
   "source": [
    "def takeStep(i1,i2,model):\n",
    "    if(i1==i2):\n",
    "        return 0 , model\n",
    "    alph1 = model.LM[i1]\n",
    "    alph2 = model.LM[i2]\n",
    "    y1 = model.target[i1]\n",
    "    y2 = model.target[i2]\n",
    "    E1 = model.Errors[i1]\n",
    "    E2 = model.Errors[i2]\n",
    "    s = y1*y2\n",
    "    if(s<0):\n",
    "        L = max(0 , alph2 - alph1)\n",
    "        H = min(model.C , model.C + alph2 - alph1)\n",
    "    else:\n",
    "        L = max(0 , alph2 + alph1 - model.C)\n",
    "        H = min(model.C , alph2 + alph1)\n",
    "    if(L==H):\n",
    "        return 0 , model\n",
    "    K11 = model.kernel(model.X[i1],model.X[i1])\n",
    "    K12 = model.kernel(model.X[i1],model.X[i2])\n",
    "    K22 = model.kernel(model.X[i2],model.X[i2])\n",
    "    eta = K11+K22-2*K12\n",
    "    if(eta>0):\n",
    "        a2 = alph2 + y2*(E1-E2)/eta\n",
    "        if(a2<L):\n",
    "            a2 = L\n",
    "        elif(a2>H):\n",
    "            a2 = H\n",
    "    else:\n",
    "        return 0,model\n",
    "\n",
    "    if a2 < 1e-5:\n",
    "        a2 = 0.0\n",
    "    elif a2 > (model.C - 1e-5):\n",
    "        a2 = model.C\n",
    "    \n",
    "    \n",
    "    if ((np.abs(a2 - alph2)) < (model.eps * (a2 + alph2 + model.eps))):\n",
    "        return 0, model\n",
    "        \n",
    "    a1 = alph1 + s*(alph2-a2)\n",
    "    \n",
    "    h=model.b\n",
    "    delb1 = E1 + y1*(a1-alph1)*K11 + y2*(a2-alph2)*K12 + model.b\n",
    "    delb2 = E2 + y1*(a1-alph1)*K12 + y2*(a2-alph2)*K22 + model.b\n",
    "    if (0>a1 or a1>model.C):\n",
    "        model.b = delb1\n",
    "    elif(0>a2 or a2>model.C):\n",
    "        model.b = delb2\n",
    "    else:\n",
    "        model.b = (delb1+delb2)/2\n",
    "\n",
    "\n",
    "    model.LM[i1] = a1\n",
    "    model.LM[i2] = a2\n",
    "    \n",
    "    for index, alph in zip([i1, i2], [a1, a2]):\n",
    "        if 0 < alph < model.C:\n",
    "            model.Errors[index] = 0\n",
    "     \n",
    "    for i in range(model.m):\n",
    "        if ((i!=i1) or (i!=i2)):\n",
    "            model.Errors[i] = model.Errors[i] + y1*(a1-alph1)*model.kernel(model.X[i],model.X[i1]) + y2*(a2-alph2)*model.kernel(model.X[i],model.X[i2])+h-model.b\n",
    "    return 1 , model"
   ]
  },
  {
   "cell_type": "code",
   "execution_count": 278,
   "metadata": {},
   "outputs": [],
   "source": [
    "#examine function\n",
    "def examine(i2,model):\n",
    "    y2 = model.target[i2]\n",
    "    alph2 = model.LM[i2]\n",
    "    E2 = model.Errors[i2]\n",
    "    r2 = E2*y2\n",
    "    if((r2<-model.tol and alph2 <model.C) or (r2 > model.tol and alph2>0)):\n",
    "        if(len(model.LM[(model.LM!=0) & (model.LM!=model.C)])>1):\n",
    "            if model.Errors[i2] > 0:\n",
    "                i1 = np.argmin(model.Errors)\n",
    "            elif model.Errors[i2] <= 0:\n",
    "                i1 = np.argmax(model.Errors)\n",
    "            tvalue, model = takeStep(i1,i2,model)\n",
    "            if tvalue:\n",
    "                return 1 , model\n",
    "        NI = np.roll(np.where((model.LM!=0) & (model.LM!=model.C)),np.random.choice(np.arange(model.m)))\n",
    "        for i1 in NI[0]:\n",
    "            tvalue, model = takeStep(i1,i2,model)\n",
    "            if tvalue:\n",
    "                return 1,model\n",
    "        for i1 in np.roll(np.arange(model.m), np.random.choice(np.arange(model.m))):\n",
    "            tvalue,model = takeStep(i1,i2,model)\n",
    "            if tvalue:\n",
    "                return 1,model\n",
    "    return 0 , model"
   ]
  },
  {
   "cell_type": "code",
   "execution_count": 279,
   "metadata": {},
   "outputs": [],
   "source": [
    "def objfunc(model):\n",
    "    h=0\n",
    "    k=0\n",
    "    for i in np.arange(model.m):\n",
    "        for j in np.arange(model.m):\n",
    "            h+=(model.LM[i]*model.LM[j]*model.target[i]*model.target[j]*model.kernel(X[i],X[j]))\n",
    "    for i in model.LM:\n",
    "        k+=i\n",
    "    return k-0.5*h"
   ]
  },
  {
   "cell_type": "code",
   "execution_count": 280,
   "metadata": {},
   "outputs": [],
   "source": [
    "def train(model):\n",
    "    numChanged = 0\n",
    "    examineAll = 1;\n",
    "    while((numChanged>0) or (examineAll)):\n",
    "        numChanged=0\n",
    "        if(examineAll):\n",
    "            for i in np.arange(model.m):\n",
    "                h,model = examine(i,model)\n",
    "                numChanged+=h\n",
    "                model.objective.append(objfunc(model))\n",
    "                #print(\"the ojc func is:\",model.objective[-1:])\n",
    "                if((len(model.objective)>=5) and model.objective[-1] == model.objective[-5] ):\n",
    "                    for i in np.arange(model.m):\n",
    "                        model.W = model.W + model.X[i]*model.target[i]*model.LM[i]\n",
    "                    return model\n",
    "        else:\n",
    "            for i,q in enumerate((model.LM!=0) & (model.LM!=model.C)):\n",
    "                if q:\n",
    "                    h,model = examine(i,model)\n",
    "                    numChanged+=h\n",
    "                    model.objective.append(objfunc(model))\n",
    "                    #print(\"the ojc func is:\",model.objective[-1:])\n",
    "                    if((len(model.objective)>=5) and model.objective[-1] == model.objective[-5]):\n",
    "                        for i in np.arange(model.m):\n",
    "                            model.W = model.W + model.X[i]*model.target[i]*model.LM[i]\n",
    "                        return model\n",
    "        if(examineAll == 1):\n",
    "            examineAll = 0\n",
    "        elif(numChanged==0):\n",
    "            examineAll = 1\n",
    "    return model"
   ]
  },
  {
   "cell_type": "code",
   "execution_count": 281,
   "metadata": {},
   "outputs": [
    {
     "data": {
      "text/plain": [
       "<matplotlib.collections.PathCollection at 0x26eb2f8ac18>"
      ]
     },
     "execution_count": 281,
     "metadata": {},
     "output_type": "execute_result"
    },
    {
     "data": {
      "image/png": "[encoded data removed]",
      "text/plain": [
       "<Figure size 432x288 with 1 Axes>"
      ]
     },
     "metadata": {},
     "output_type": "display_data"
    }
   ],
   "source": [
    "#Generating TOY data\n",
    "X, y= make_blobs(n_samples=50,centers=2,n_features=2,random_state=32)\n",
    "plt.scatter(X[:,0],X[:,1],c=y)"
   ]
  },
  {
   "cell_type": "code",
   "execution_count": 282,
   "metadata": {},
   "outputs": [],
   "source": [
    "model1 = SMOModel(X,y)"
   ]
  },
  {
   "cell_type": "code",
   "execution_count": 283,
   "metadata": {},
   "outputs": [
    {
     "data": {
      "text/plain": [
       "array([ 1.,  1., -1.,  1.,  1., -1., -1.,  1., -1.,  1., -1., -1., -1.,\n",
       "        1., -1.,  1.,  1., -1., -1.,  1., -1., -1.,  1.,  1., -1.,  1.,\n",
       "        1.,  1.,  1., -1., -1., -1.,  1., -1.,  1., -1.,  1.,  1.,  1.,\n",
       "        1., -1., -1., -1., -1.,  1.,  1.,  1., -1., -1., -1.])"
      ]
     },
     "execution_count": 283,
     "metadata": {},
     "output_type": "execute_result"
    }
   ],
   "source": [
    "model1.Errors"
   ]
  },
  {
   "cell_type": "code",
   "execution_count": 284,
   "metadata": {},
   "outputs": [],
   "source": [
    "model1=train(model1)"
   ]
  },
  {
   "cell_type": "code",
   "execution_count": 285,
   "metadata": {},
   "outputs": [
    {
     "name": "stdout",
     "output_type": "stream",
     "text": [
      "[-0.08194912  0.18602723]\n",
      "0.35612293111233795\n"
     ]
    }
   ],
   "source": [
    "print(model1.W)\n",
    "print(model1.b)"
   ]
  },
  {
   "cell_type": "code",
   "execution_count": 286,
   "metadata": {},
   "outputs": [
    {
     "data": {
      "text/plain": [
       "LinearSVC(C=1000, class_weight=None, dual=True, fit_intercept=True,\n",
       "     intercept_scaling=1, loss='squared_hinge', max_iter=1000,\n",
       "     multi_class='ovr', penalty='l2', random_state=None, tol=0.01,\n",
       "     verbose=0)"
      ]
     },
     "execution_count": 286,
     "metadata": {},
     "output_type": "execute_result"
    }
   ],
   "source": [
    "from sklearn.svm import LinearSVC\n",
    "clf = LinearSVC(C=1000,tol=0.01)\n",
    "clf.fit(X,y)"
   ]
  },
  {
   "cell_type": "code",
   "execution_count": 287,
   "metadata": {},
   "outputs": [
    {
     "data": {
      "image/png": "[encoded data removed]",
      "text/plain": [
       "<Figure size 432x288 with 1 Axes>"
      ]
     },
     "metadata": {},
     "output_type": "display_data"
    }
   ],
   "source": [
    "def abline(slope, intercept):\n",
    "    \"\"\"Plot a line from slope and intercept\"\"\"\n",
    "    axes = plt.gca()\n",
    "    x_vals = np.array(axes.get_xlim())\n",
    "    y_vals = intercept + slope * x_vals\n",
    "    plt.plot(x_vals, y_vals, '--')\n",
    "plt.scatter(X[:,0],X[:,1],c=y)\n",
    "\n",
    "abline(-model1.W[0]/model1.W[1],model1.b/W[1])\n",
    "abline(-model1.W[0]/model1.W[1],(model1.b+1)/W[1])\n",
    "abline(-model1.W[0]/model1.W[1],(model1.b-1)/W[1])"
   ]
  },
  {
   "cell_type": "code",
   "execution_count": 288,
   "metadata": {},
   "outputs": [
    {
     "data": {
      "image/png": "[encoded data removed]",
      "text/plain": [
       "<Figure size 432x288 with 1 Axes>"
      ]
     },
     "metadata": {},
     "output_type": "display_data"
    }
   ],
   "source": [
    "plt.scatter(X[:,0],X[:,1],c=y)\n",
    "abline(-clf.coef_[0][0]/clf.coef_[0][1],clf.intercept_/clf.coef_[0][1])\n",
    "abline(-clf.coef_[0][0]/clf.coef_[0][1],(clf.intercept_+1)/clf.coef_[0][1])\n",
    "abline(-clf.coef_[0][0]/clf.coef_[0][1],(clf.intercept_-1)/clf.coef_[0][1])"
   ]
  },
  {
   "cell_type": "code",
   "execution_count": null,
   "metadata": {},
   "outputs": [],
   "source": []
  }
 ],
 "metadata": {
  "kernelspec": {
   "display_name": "Python 3",
   "language": "python",
   "name": "python3"
  },
  "language_info": {
   "codemirror_mode": {
    "name": "ipython",
    "version": 3
   },
   "file_extension": ".py",
   "mimetype": "text/x-python",
   "name": "python",
   "nbconvert_exporter": "python",
   "pygments_lexer": "ipython3",
   "version": "3.6.5"
  }
 },
 "nbformat": 4,
 "nbformat_minor": 2
}
